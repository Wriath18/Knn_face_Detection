{
 "cells": [
  {
   "cell_type": "code",
   "execution_count": 18,
   "metadata": {},
   "outputs": [],
   "source": [
    "import cv2\n",
    "import numpy as np"
   ]
  },
  {
   "cell_type": "code",
   "execution_count": 19,
   "metadata": {},
   "outputs": [
    {
     "name": "stdout",
     "output_type": "stream",
     "text": [
      "1\n",
      "2\n",
      "3\n",
      "4\n",
      "5\n",
      "6\n",
      "7\n",
      "8\n",
      "9\n",
      "10\n",
      "11\n",
      "12\n",
      "13\n",
      "14\n",
      "15\n",
      "16\n",
      "17\n",
      "18\n",
      "19\n",
      "20\n",
      "21\n",
      "22\n",
      "23\n",
      "24\n",
      "25\n",
      "26\n"
     ]
    }
   ],
   "source": [
    "cam = cv2.VideoCapture(0)\n",
    "face_cascade = cv2.CascadeClassifier(\"haarcascade_frontalface_alt.xml\")\n",
    "\n",
    "face_data = []\n",
    "data_path = \"./Datasets/\"\n",
    "skip= 0\n",
    "\n",
    "file_name = input(\"Enter the name of the face : \")\n",
    "while True:\n",
    "    ret_value, frame = cam.read()\n",
    "    gray_frame = cv2.cvtColor(frame, cv2.COLOR_BGR2GRAY)\n",
    "    if ret_value == False:\n",
    "        continue\n",
    "\n",
    "    faces = face_cascade.detectMultiScale(gray_frame,1.3,5)\n",
    "    faces = sorted(faces, key=lambda f:f[2]*f[3])\n",
    "\n",
    "    for (x,y,w,h) in faces[-1:]:\n",
    "        cv2.rectangle(gray_frame, (x,y), (x+w, y+h), (255,255,0),2)\n",
    "\n",
    "        offset = 10\n",
    "        face_selection = gray_frame[y-offset:y+h+offset, x-offset:x+w+offset] #the whole face should be covered and thus we add the offset at the end to include extra area as a buffer\n",
    "        face_selection = cv2.resize(face_selection,(100,100))\n",
    "        skip += 1\n",
    "        if skip%10 == 0:\n",
    "            face_data.append(face_selection)\n",
    "            print(len(face_data))\n",
    "\n",
    "    cv2.imshow(\"Video Frame\", gray_frame)\n",
    "    cv2.imshow(\"face Selection\",face_selection)\n",
    "    \n",
    "    key_pressed = cv2.waitKey(1) & 0xFF\n",
    "    if key_pressed == ord('s'):\n",
    "        break\n",
    "\n",
    "face_data = np.asarray(face_data)\n",
    "face_data = face_data.reshape((face_data.shape[0],-1))\n",
    "\n",
    "np.save(data_path+file_name+'.npy', face_data)\n",
    "\n",
    "cam.release()\n",
    "cv2.destroyAllWindows()"
   ]
  },
  {
   "cell_type": "markdown",
   "metadata": {},
   "source": [
    "Extracting faces"
   ]
  },
  {
   "cell_type": "code",
   "execution_count": 20,
   "metadata": {},
   "outputs": [],
   "source": [
    "import os"
   ]
  },
  {
   "cell_type": "markdown",
   "metadata": {},
   "source": [
    "knn algo"
   ]
  },
  {
   "cell_type": "code",
   "execution_count": 21,
   "metadata": {},
   "outputs": [],
   "source": [
    "def distance(x1, x2):\n",
    "    return np.sqrt(((x1-x2)**2).sum())\n",
    "\n",
    "def knn(train, test_point, k=5):\n",
    "    distances = []\n",
    "\n",
    "    for i in range(train.shape[0]):\n",
    "        ix = train[i, : -1]\n",
    "        iy = train[i, -1]\n",
    "\n",
    "        d = distance(test_point, ix)\n",
    "        distance.append([d, iy])\n",
    "\n",
    "    dk = sorted(distances, key=lambda x:x[0] )[:k]\n",
    "    labels = np.array(dk)[:, -1]\n",
    "\n",
    "\n",
    "    output = np.unique(labels, return_counts=True)\n",
    "    index = np.argmax(output[1])\n",
    "    return output[0][index]"
   ]
  },
  {
   "cell_type": "code",
   "execution_count": 22,
   "metadata": {},
   "outputs": [],
   "source": [
    "def knn(train, test, k=5):\n",
    "    distances = []\n",
    "\n",
    "    for i in range(train.shape[0]):\n",
    "        ix = train[i, :-1]\n",
    "        iy = train[i, -1]\n",
    "\n",
    "        d = distance(test, ix)\n",
    "        distances.append([d, iy])\n",
    "    distance_k = sorted(distances, key=lambda x:x[0])\n",
    "    distance_k = distance_k[:k]\n",
    "\n",
    "    labels = np.array(distance_k)[:,-1]\n",
    "\n",
    "    output = np.unique(labels, return_counts=True)\n",
    "    index_most_frequnt = np.argmax(output[1])\n",
    "    return output[0][index_most_frequnt]\n"
   ]
  },
  {
   "cell_type": "code",
   "execution_count": 23,
   "metadata": {},
   "outputs": [],
   "source": [
    "cam = cv2.VideoCapture(0)\n",
    "face_cascade = cv2.CascadeClassifier(\"haarcascade_frontalface_alt.xml\")\n",
    "\n",
    "face_data = []\n",
    "data_path = \"./Datasets/\"\n",
    "skip= 0\n",
    "\n",
    "labels = []\n",
    "\n",
    "class_id = 0\n",
    "names = {}"
   ]
  },
  {
   "cell_type": "code",
   "execution_count": 24,
   "metadata": {},
   "outputs": [
    {
     "name": "stdout",
     "output_type": "stream",
     "text": [
      "Loaded = Sanidhyagoel.npy\n",
      "(26, 10000)\n",
      "(26, 1)\n",
      "(26, 10001)\n"
     ]
    }
   ],
   "source": [
    "for files in os.listdir(data_path):\n",
    "    if files.endswith(\".npy\"):\n",
    "        names[class_id] = files[:-4]\n",
    "        print(\"Loaded = \"+files)\n",
    "        data_file = np.load(data_path+files)\n",
    "        face_data.append(data_file)\n",
    "\n",
    "        target = class_id*np.ones((data_file.shape[0],))\n",
    "        class_id += 1\n",
    "        labels.append(target)\n",
    "\n",
    "face_dataset = np.concatenate(face_data, axis=0)\n",
    "face_labels = np.concatenate(labels, axis=0).reshape((-1,1))\n",
    "\n",
    "print(face_dataset.shape)\n",
    "print(face_labels.shape)\n",
    "\n",
    "trainset = np.concatenate((face_dataset, face_labels), axis=1)\n",
    "print(trainset.shape)"
   ]
  },
  {
   "cell_type": "code",
   "execution_count": 25,
   "metadata": {},
   "outputs": [
    {
     "ename": "error",
     "evalue": "OpenCV(4.8.1) D:\\a\\opencv-python\\opencv-python\\opencv\\modules\\imgproc\\src\\demosaicing.cpp:1699: error: (-215:Assertion failed) scn == 1 && dcn == 1 in function 'cv::demosaicing'\n",
     "output_type": "error",
     "traceback": [
      "\u001b[1;31m---------------------------------------------------------------------------\u001b[0m",
      "\u001b[1;31merror\u001b[0m                                     Traceback (most recent call last)",
      "Cell \u001b[1;32mIn[25], line 6\u001b[0m\n\u001b[0;32m      3\u001b[0m \u001b[38;5;28;01mif\u001b[39;00m ret_value \u001b[38;5;241m==\u001b[39m \u001b[38;5;28;01mFalse\u001b[39;00m:\n\u001b[0;32m      4\u001b[0m     \u001b[38;5;28;01mcontinue\u001b[39;00m\n\u001b[1;32m----> 6\u001b[0m gray_frame \u001b[38;5;241m=\u001b[39m \u001b[43mcv2\u001b[49m\u001b[38;5;241;43m.\u001b[39;49m\u001b[43mcvtColor\u001b[49m\u001b[43m(\u001b[49m\u001b[43mframe\u001b[49m\u001b[43m,\u001b[49m\u001b[43m \u001b[49m\u001b[43mcv2\u001b[49m\u001b[38;5;241;43m.\u001b[39;49m\u001b[43mCOLOR_BAYER_BG2GRAY\u001b[49m\u001b[43m)\u001b[49m\n\u001b[0;32m      7\u001b[0m faces \u001b[38;5;241m=\u001b[39m face_cascade\u001b[38;5;241m.\u001b[39mdetectMultiScale(gray_frame,\u001b[38;5;241m1.3\u001b[39m,\u001b[38;5;241m5\u001b[39m)\n\u001b[0;32m      9\u001b[0m \u001b[38;5;28;01mfor\u001b[39;00m (x,y,w,h) \u001b[38;5;129;01min\u001b[39;00m faces:\n",
      "\u001b[1;31merror\u001b[0m: OpenCV(4.8.1) D:\\a\\opencv-python\\opencv-python\\opencv\\modules\\imgproc\\src\\demosaicing.cpp:1699: error: (-215:Assertion failed) scn == 1 && dcn == 1 in function 'cv::demosaicing'\n"
     ]
    }
   ],
   "source": [
    "while True:\n",
    "    ret_value, frame = cam.read()\n",
    "    if ret_value == False:\n",
    "        continue\n",
    "\n",
    "    faces = face_cascade.detectMultiScale(frame,1.3,5)\n",
    "\n",
    "    for (x,y,w,h) in faces:\n",
    "        offset = 10\n",
    "        face_selection = frame[y-offset:y+w+offset, x-offset:x+h+offset]\n",
    "        face_selection = cv2.resize(face_selection, (100,100))\n",
    "\n",
    "        out = knn(trainset, face_selection.flatten())\n",
    "\n",
    "        pred_name = names[int(out)]\n",
    "        cv2.putText(frame, pred_name, (x,y-10), cv2.FONT_HERSHEY_COMPLEX, 1,(255,0,0),2,cv2.LINE_AA)\n",
    "        cv2.rectangle(frame, (x,y), (x+h, y+w), (0,255,255), 2)    \n",
    "    cv2.imshow(\"faces\", frame)\n",
    "\n",
    "    key_pressed = cv2.waitKey(1) & 0xFF\n",
    "    if key_pressed == ord(\"s\"):\n",
    "        break\n",
    "\n",
    "cam.release()\n",
    "cv2.destroyAllWindows()"
   ]
  },
  {
   "cell_type": "code",
   "execution_count": null,
   "metadata": {},
   "outputs": [],
   "source": []
  }
 ],
 "metadata": {
  "kernelspec": {
   "display_name": "Python 3",
   "language": "python",
   "name": "python3"
  },
  "language_info": {
   "codemirror_mode": {
    "name": "ipython",
    "version": 3
   },
   "file_extension": ".py",
   "mimetype": "text/x-python",
   "name": "python",
   "nbconvert_exporter": "python",
   "pygments_lexer": "ipython3",
   "version": "3.10.11"
  }
 },
 "nbformat": 4,
 "nbformat_minor": 2
}
